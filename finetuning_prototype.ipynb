{
 "cells": [
  {
   "cell_type": "code",
   "execution_count": 1,
   "id": "5949eb2c-d1dc-4f2c-99a1-ff4e13641373",
   "metadata": {},
   "outputs": [],
   "source": [
    "from models import Finetuner\n",
    "import optuna\n",
    "import sys\n",
    "sys.path.insert(1, \"../BenchCanc/\")\n",
    "from PyDRP.Benchmarks import BenchCanc"
   ]
  },
  {
   "cell_type": "code",
   "execution_count": 2,
   "id": "c5c30ae5-1eb4-4be5-baf5-85c4dc4b0cef",
   "metadata": {},
   "outputs": [],
   "source": [
    "args = {\"model_file\": \"attn_gnn\",\n",
    "        \"pooling\":\"mean\",\n",
    "        \"pretraining\":\"properties2d\",\n",
    "         \"study\":\"properties2d_attn_gnn_0\"}\n",
    "config = {\"model_file\":args[\"model_file\"],\n",
    "          \"transfer_decoder\":True,\n",
    "                  \"pooling\":args[\"pooling\"],\n",
    "                  \"pretraining_epoch\":0,\n",
    "                  \"freeze\":\"partial+gnn\",\n",
    "                  \"num_epochs\":51,\n",
    "                  \"pretraining\":args[\"pretraining\"],\n",
    "                 \"device\":\"cuda:7\"}\n",
    "if args[\"study\"] == \"none\":\n",
    "    config_model = {\"embed_dim\":250,\n",
    "              \"hidden_dim\":1024,\n",
    "              \"learning_rate\":0.0001,\n",
    "              \"num_layers\":4}\n",
    "else:\n",
    "    study_name = args[\"study\"]\n",
    "    storage_name = \"sqlite:///studies/{}.db\".format(study_name)\n",
    "    study = optuna.load_study(study_name, storage_name)\n",
    "    config_model = study.best_params\n",
    "    config_model[\"embed_dim\"]*=60\n",
    "config = {**config_model, **config}\n",
    "model_name = config[\"model_file\"].replace('.py', '')\n",
    "target_model = __import__(model_name)\n",
    "lr = config[\"learning_rate\"]\n",
    "pretraining = config[\"pretraining\"]\n",
    "if \"pooling\" in config.keys():\n",
    "    pooling = config[\"pooling\"]\n",
    "else:\n",
    "    pooling = \"mean\"\n",
    "config_model2d = target_model.config_model2d\n",
    "config_model2d = {**config, **config_model2d}"
   ]
  },
  {
   "cell_type": "code",
   "execution_count": 3,
   "id": "0d4de503-c8db-4b10-b7be-961b5350f701",
   "metadata": {},
   "outputs": [],
   "source": [
    "model = Finetuner(model2D = target_model.Model2D(train_dataset= None,**config_model2d),\n",
    "               init_dim=79,\n",
    "               embed_dim=config[\"embed_dim\"],\n",
    "               edge_dim = 10,\n",
    "               pooling = pooling,\n",
    "               hidden_dim = config[\"hidden_dim\"])"
   ]
  },
  {
   "cell_type": "code",
   "execution_count": 4,
   "id": "a7fe4339-f539-40f8-9eaa-5f374c7ba57e",
   "metadata": {},
   "outputs": [],
   "source": [
    "model.load_from_pretrained(f'models/attn_gnn_{config[\"pretraining\"]}_{config[\"pooling\"]}_{config[\"pretraining_epoch\"]}.pt')\n",
    "if config[\"transfer_decoder\"]:\n",
    "    model.transfer_mlp()\n",
    "if not config[\"freeze\"]:\n",
    "    pass\n",
    "else:\n",
    "    if \"gnn\" in config[\"freeze\"]:\n",
    "        model.freeze_gnn()\n",
    "    if \"pooling\" in config[\"freeze\"]:\n",
    "        model.pooling.freeze()\n",
    "    if \"partial\" in config[\"freeze\"]:\n",
    "        model.partial_unfreeze()"
   ]
  },
  {
   "cell_type": "code",
   "execution_count": 5,
   "id": "5f45c60a-aeba-4c67-a801-cc8deacfa23b",
   "metadata": {},
   "outputs": [],
   "source": [
    "config = {\"optimizer\":{\"batch_size\":256,\n",
    "                        \"learning_rate\":0.0001,\n",
    "                         \"max_epochs\":100,\n",
    "                         \"patience\":4,\n",
    "                         \"clip_norm\":10,\n",
    "                         \"kwargs\":{}},\n",
    "            \"env\":{\"device\":config[\"device\"],\n",
    "                   \"mixed_precision\":True},\n",
    "            \"model\":config}\n",
    "def epoch_callback(epoch, model, optimizer, scheduler, train_metrics, test_metrics, config):\n",
    "    if epoch == config[\"model\"][\"pretraining_length\"]:\n",
    "        model.set_warm()\n",
    "    test_metrics = {it[0]:it[1].item() for it in test_metrics.compute().items()}\n",
    "    print(f\"epoch : {epoch}, test_metrics: {test_metrics}\")\n",
    "ps = []"
   ]
  },
  {
   "cell_type": "code",
   "execution_count": null,
   "id": "f2178cce-cd8a-4687-bed3-cf2c24538419",
   "metadata": {},
   "outputs": [],
   "source": [
    "benchmark = BenchCanc(config,\n",
    "                    minmax_target=False,\n",
    "                    epoch_callback = epoch_callback,\n",
    "                    line_features = \"expression+mutations+cnv\",\n",
    "                    setting = \"precision_oncology\",\n",
    "                    residualize=True,\n",
    "                    dataset = \"GDSC1\",)\n",
    "benchmark.train_model(model, 0)"
   ]
  },
  {
   "cell_type": "code",
   "execution_count": null,
   "id": "7fe6d1ae-67d6-4b56-937f-642ff7b95d74",
   "metadata": {},
   "outputs": [],
   "source": []
  }
 ],
 "metadata": {
  "kernelspec": {
   "display_name": "Python 3 (ipykernel)",
   "language": "python",
   "name": "python3"
  },
  "language_info": {
   "codemirror_mode": {
    "name": "ipython",
    "version": 3
   },
   "file_extension": ".py",
   "mimetype": "text/x-python",
   "name": "python",
   "nbconvert_exporter": "python",
   "pygments_lexer": "ipython3",
   "version": "3.9.12"
  }
 },
 "nbformat": 4,
 "nbformat_minor": 5
}
